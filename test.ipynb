{
 "cells": [
  {
   "cell_type": "code",
   "execution_count": 1,
   "id": "5429a9cf",
   "metadata": {},
   "outputs": [],
   "source": [
    "import paddle\n",
    "import numpy as np\n",
    "from dataset import *"
   ]
  },
  {
   "cell_type": "code",
   "execution_count": 2,
   "id": "99336479",
   "metadata": {
    "scrolled": true
   },
   "outputs": [
    {
     "name": "stdout",
     "output_type": "stream",
     "text": [
      "========== job ==========\n",
      "admin. 0.00\n",
      "services 0.09\n",
      "blue-collar 0.18\n",
      "entrepreneur 0.27\n",
      "management 0.36\n",
      "technician 0.45\n",
      "housemaid 0.55\n",
      "self-employed 0.64\n",
      "unemployed 0.73\n",
      "retired 0.82\n",
      "student 0.91\n",
      "unknown 1.00\n",
      "========== marital ==========\n",
      "divorced 0.00\n",
      "married 0.33\n",
      "single 0.67\n",
      "unknown 1.00\n",
      "========== education ==========\n",
      "professional.course 0.00\n",
      "high.school 0.14\n",
      "basic.9y 0.29\n",
      "university.degree 0.43\n",
      "unknown 0.57\n",
      "basic.4y 0.71\n",
      "basic.6y 0.86\n",
      "illiterate 1.00\n",
      "========== default ==========\n",
      "no 0.00\n",
      "unknown 0.50\n",
      "yes 1.00\n",
      "========== housing ==========\n",
      "yes 0.00\n",
      "no 0.50\n",
      "unknown 1.00\n",
      "========== loan ==========\n",
      "yes 0.00\n",
      "no 0.50\n",
      "unknown 1.00\n",
      "========== contact ==========\n",
      "cellular 0.00\n",
      "telephone 1.00\n",
      "========== month ==========\n",
      "aug 0.00\n",
      "may 0.11\n",
      "apr 0.22\n",
      "nov 0.33\n",
      "jul 0.44\n",
      "jun 0.56\n",
      "oct 0.67\n",
      "dec 0.78\n",
      "sep 0.89\n",
      "mar 1.00\n",
      "========== day_of_week ==========\n",
      "mon 0.00\n",
      "wed 0.25\n",
      "fri 0.50\n",
      "tue 0.75\n",
      "thu 1.00\n",
      "========== poutcome ==========\n",
      "failure 0.00\n",
      "nonexistent 0.50\n",
      "success 1.00\n"
     ]
    }
   ],
   "source": [
    "dataset = Dataset(\"data/test.csv\", 'test', False)\n",
    "dataset.showlabel()"
   ]
  },
  {
   "cell_type": "code",
   "execution_count": 3,
   "id": "9a434e12",
   "metadata": {},
   "outputs": [],
   "source": [
    "def calno(pred):\n",
    "    yes = 0\n",
    "    for i,p in enumerate(pred):\n",
    "        if p[0] == 0.:\n",
    "            yes += 1\n",
    "    print(yes/len(pred))"
   ]
  },
  {
   "cell_type": "code",
   "execution_count": 4,
   "id": "fca9225f",
   "metadata": {
    "scrolled": true
   },
   "outputs": [
    {
     "name": "stdout",
     "output_type": "stream",
     "text": [
      "0.8848\n"
     ]
    }
   ],
   "source": [
    "modelname = 'fcmodel_norm_silu'\n",
    "fcmodel = paddle.jit.load(\"model.save/%s\" % modelname)\n",
    "fcmodel.eval()\n",
    "# params_info = paddle.summary(fcmodel,(1, 20))\n",
    "# print(params_info)\n",
    "inp = []\n",
    "for j in range(0, 7500):\n",
    "    inp_j, _ = dataset.__getitem__(j)\n",
    "    inp.append(inp_j)\n",
    "inp = paddle.Tensor(np.array(inp))\n",
    "pred0 = np.round(fcmodel(inp))\n",
    "calno(pred0)"
   ]
  },
  {
   "cell_type": "code",
   "execution_count": 5,
   "id": "ec6f0376",
   "metadata": {},
   "outputs": [
    {
     "name": "stdout",
     "output_type": "stream",
     "text": [
      "0.8798666666666667\n"
     ]
    }
   ],
   "source": [
    "modelname = 'fcmodel_norm_relu'\n",
    "fcmodel = paddle.jit.load(\"model.save/%s\" % modelname)\n",
    "fcmodel.eval()\n",
    "# params_info = paddle.summary(fcmodel,(1, 20))\n",
    "# print(params_info)\n",
    "inp = []\n",
    "for j in range(0, 7500):\n",
    "    inp_j, _ = dataset.__getitem__(j)\n",
    "    inp.append(inp_j)\n",
    "inp = paddle.Tensor(np.array(inp))\n",
    "pred1 = np.round(fcmodel(inp))\n",
    "calno(pred1)"
   ]
  },
  {
   "cell_type": "code",
   "execution_count": 6,
   "id": "557b5a32",
   "metadata": {},
   "outputs": [
    {
     "name": "stdout",
     "output_type": "stream",
     "text": [
      "0.8792\n"
     ]
    }
   ],
   "source": [
    "modelname = 'fcmodel_norm_sigmoid'\n",
    "fcmodel = paddle.jit.load(\"model.save/%s\" % modelname)\n",
    "fcmodel.eval()\n",
    "# params_info = paddle.summary(fcmodel,(1, 20))\n",
    "# print(params_info)\n",
    "inp = []\n",
    "for j in range(0, 7500):\n",
    "    inp_j, _ = dataset.__getitem__(j)\n",
    "    inp.append(inp_j)\n",
    "inp = paddle.Tensor(np.array(inp))\n",
    "pred2 = np.round(fcmodel(inp))\n",
    "calno(pred2)"
   ]
  },
  {
   "cell_type": "code",
   "execution_count": 7,
   "id": "5c63c5f4",
   "metadata": {},
   "outputs": [
    {
     "name": "stdout",
     "output_type": "stream",
     "text": [
      "0.9112\n"
     ]
    }
   ],
   "source": [
    "modelname = 'fcmodel_norm_mish'\n",
    "fcmodel = paddle.jit.load(\"model.save/%s\" % modelname)\n",
    "fcmodel.eval()\n",
    "# params_info = paddle.summary(fcmodel,(1, 20))\n",
    "# print(params_info)\n",
    "inp = []\n",
    "for j in range(0, 7500):\n",
    "    inp_j, _ = dataset.__getitem__(j)\n",
    "    inp.append(inp_j)\n",
    "inp = paddle.Tensor(np.array(inp))\n",
    "pred3 = np.round(fcmodel(inp))\n",
    "calno(pred3)"
   ]
  },
  {
   "cell_type": "code",
   "execution_count": 8,
   "id": "a56974b8",
   "metadata": {},
   "outputs": [
    {
     "name": "stdout",
     "output_type": "stream",
     "text": [
      "0.8977333333333334\n"
     ]
    }
   ],
   "source": [
    "modelname = 'fcmodel_norm_gelu'\n",
    "fcmodel = paddle.jit.load(\"model.save/%s\" % modelname)\n",
    "fcmodel.eval()\n",
    "# params_info = paddle.summary(fcmodel,(1, 20))\n",
    "# print(params_info)\n",
    "inp = []\n",
    "for j in range(0, 7500):\n",
    "    inp_j, _ = dataset.__getitem__(j)\n",
    "    inp.append(inp_j)\n",
    "inp = paddle.Tensor(np.array(inp))\n",
    "pred4 = np.round(fcmodel(inp))\n",
    "calno(pred4)"
   ]
  },
  {
   "cell_type": "code",
   "execution_count": 9,
   "id": "f3383a7d",
   "metadata": {},
   "outputs": [
    {
     "name": "stdout",
     "output_type": "stream",
     "text": [
      "0.9709333333333333\n"
     ]
    }
   ],
   "source": [
    "pred = np.multiply(np.multiply(np.multiply(np.multiply(pred0, pred1), pred2), pred3), pred4)\n",
    "calno(pred)"
   ]
  },
  {
   "cell_type": "code",
   "execution_count": 10,
   "id": "04531169",
   "metadata": {},
   "outputs": [],
   "source": [
    "modelname = 'mix'\n",
    "\n",
    "import xlwt\n",
    " \n",
    "# 创建一个workbook并设置编码\n",
    "workbook = xlwt.Workbook(encoding = 'utf-8')\n",
    "# 添加sheet\n",
    "worksheet = workbook.add_sheet('submission')\n",
    "worksheet.write(0, 0, label = 'id')\n",
    "worksheet.write(0, 1, label = 'subscribe')\n",
    "# 写入excel, 参数对应 行, 列, 值\n",
    "for i,p in enumerate(pred):\n",
    "    worksheet.write(i+1, 0, label = 22501 + i)\n",
    "    if p[0] == 0.:\n",
    "        worksheet.write(i+1, 1, label = 'no')\n",
    "    elif p[0] == 1.:\n",
    "        worksheet.write(i+1, 1, label = 'yes')\n",
    "# 保存\n",
    "workbook.save('data/%s.xls' % modelname)"
   ]
  },
  {
   "cell_type": "code",
   "execution_count": null,
   "id": "f130ced3",
   "metadata": {},
   "outputs": [],
   "source": []
  }
 ],
 "metadata": {
  "kernelspec": {
   "display_name": "Python 3 (ipykernel)",
   "language": "python",
   "name": "python3"
  },
  "language_info": {
   "codemirror_mode": {
    "name": "ipython",
    "version": 3
   },
   "file_extension": ".py",
   "mimetype": "text/x-python",
   "name": "python",
   "nbconvert_exporter": "python",
   "pygments_lexer": "ipython3",
   "version": "3.9.13"
  }
 },
 "nbformat": 4,
 "nbformat_minor": 5
}
