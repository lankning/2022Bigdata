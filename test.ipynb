{
 "cells": [
  {
   "cell_type": "code",
   "execution_count": 1,
   "id": "5429a9cf",
   "metadata": {},
   "outputs": [],
   "source": [
    "import paddle\n",
    "import numpy as np\n",
    "from dataset import *\n",
    "from tqdm import tqdm"
   ]
  },
  {
   "cell_type": "code",
   "execution_count": 2,
   "id": "fca9225f",
   "metadata": {},
   "outputs": [
    {
     "name": "stdout",
     "output_type": "stream",
     "text": [
      "-----------------------------------------------------------------------------\n",
      "  Layer (type)        Input Shape          Output Shape         Param #    \n",
      "=============================================================================\n",
      "TranslatedLayer-1      [[1, 20]]              [1, 1]          12,634,113   \n",
      "=============================================================================\n",
      "Total params: 12,634,113\n",
      "Trainable params: 12,634,113\n",
      "Non-trainable params: 0\n",
      "-----------------------------------------------------------------------------\n",
      "Input size (MB): 0.00\n",
      "Forward/backward pass size (MB): 0.00\n",
      "Params size (MB): 48.20\n",
      "Estimated Total Size (MB): 48.20\n",
      "-----------------------------------------------------------------------------\n",
      "\n",
      "{'total_params': 12634113, 'trainable_params': 12634113}\n",
      "{'admin.': 0.0, 'services': 0.09090909090909091, 'blue-collar': 0.18181818181818182, 'entrepreneur': 0.2727272727272727, 'management': 0.36363636363636365, 'technician': 0.45454545454545453, 'housemaid': 0.5454545454545454, 'self-employed': 0.6363636363636364, 'unemployed': 0.7272727272727273, 'retired': 0.8181818181818182, 'student': 0.9090909090909091, 'unknown': 1.0}\n",
      "{'divorced': 0.0, 'married': 0.3333333333333333, 'single': 0.6666666666666666, 'unknown': 1.0}\n",
      "{'professional.course': 0.0, 'high.school': 0.14285714285714285, 'basic.9y': 0.2857142857142857, 'university.degree': 0.42857142857142855, 'unknown': 0.5714285714285714, 'basic.4y': 0.7142857142857143, 'basic.6y': 0.8571428571428571, 'illiterate': 1.0}\n",
      "{'no': 0.0, 'unknown': 0.5, 'yes': 1.0}\n",
      "{'yes': 0.0, 'no': 0.5, 'unknown': 1.0}\n",
      "{'yes': 0.0, 'no': 0.5, 'unknown': 1.0}\n",
      "{'cellular': 0.0, 'telephone': 1.0}\n",
      "{'aug': 0.0, 'may': 0.1111111111111111, 'apr': 0.2222222222222222, 'nov': 0.3333333333333333, 'jul': 0.4444444444444444, 'jun': 0.5555555555555556, 'oct': 0.6666666666666666, 'dec': 0.7777777777777778, 'sep': 0.8888888888888888, 'mar': 1.0}\n",
      "{'mon': 0.0, 'wed': 0.25, 'fri': 0.5, 'tue': 0.75, 'thu': 1.0}\n",
      "{'failure': 0.0, 'nonexistent': 0.5, 'success': 1.0}\n",
      "{'no': 0.0, 'yes': 1.0}\n"
     ]
    }
   ],
   "source": [
    "fcmodel = paddle.jit.load(\"model.save/fcmodel\")\n",
    "fcmodel.eval()\n",
    "params_info = paddle.summary(fcmodel,(1, 20))\n",
    "print(params_info)\n",
    "dataset = Dataset(\"data/train.csv\", 'test', False)\n",
    "dataset.showlabel()"
   ]
  },
  {
   "cell_type": "code",
   "execution_count": 3,
   "id": "ec6f0376",
   "metadata": {},
   "outputs": [
    {
     "name": "stdout",
     "output_type": "stream",
     "text": [
      "Tensor(shape=[10, 1], dtype=float32, place=Place(gpu:0), stop_gradient=False,\n",
      "       [[0.00000000],\n",
      "        [0.00000000],\n",
      "        [0.00000000],\n",
      "        [0.00000000],\n",
      "        [0.00000000],\n",
      "        [0.00000000],\n",
      "        [0.00000000],\n",
      "        [0.00000000],\n",
      "        [0.00000000],\n",
      "        [0.00000000]])\n",
      "Tensor(shape=[10, 1], dtype=float32, place=Place(gpu:0), stop_gradient=False,\n",
      "       [[0.00000000],\n",
      "        [0.00000000],\n",
      "        [0.00000000],\n",
      "        [0.00000000],\n",
      "        [0.00000000],\n",
      "        [0.00000000],\n",
      "        [0.00000000],\n",
      "        [0.00000000],\n",
      "        [0.00000000],\n",
      "        [0.00000000]])\n",
      "Tensor(shape=[10, 1], dtype=float32, place=Place(gpu:0), stop_gradient=False,\n",
      "       [[0.00000000],\n",
      "        [0.00000000],\n",
      "        [0.00000000],\n",
      "        [0.00000000],\n",
      "        [0.00000000],\n",
      "        [0.00000000],\n",
      "        [0.00000000],\n",
      "        [0.00000000],\n",
      "        [0.00000000],\n",
      "        [0.00000000]])\n"
     ]
    }
   ],
   "source": [
    "for i in range(3):\n",
    "    inp = []\n",
    "    for j in range(10*i, 10*i+10):\n",
    "        inp_j, _ = dataset.__getitem__(j)\n",
    "        inp.append(inp_j)\n",
    "    inp = np.float32(np.array(inp))\n",
    "    pred = fcmodel(inp)\n",
    "#     print(np.round(pred))\n",
    "    print(pred)"
   ]
  }
 ],
 "metadata": {
  "kernelspec": {
   "display_name": "Python 3 (ipykernel)",
   "language": "python",
   "name": "python3"
  },
  "language_info": {
   "codemirror_mode": {
    "name": "ipython",
    "version": 3
   },
   "file_extension": ".py",
   "mimetype": "text/x-python",
   "name": "python",
   "nbconvert_exporter": "python",
   "pygments_lexer": "ipython3",
   "version": "3.9.13"
  }
 },
 "nbformat": 4,
 "nbformat_minor": 5
}
